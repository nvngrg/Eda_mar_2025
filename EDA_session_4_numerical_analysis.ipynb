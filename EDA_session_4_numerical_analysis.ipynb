{
 "cells": [
  {
   "cell_type": "markdown",
   "id": "dc3d1725-4273-4dd4-805a-92b937d51b5a",
   "metadata": {},
   "source": [
    "**Import packages**"
   ]
  },
  {
   "cell_type": "code",
   "execution_count": 2,
   "id": "4d34b9d8-8b62-4356-89cf-c27b367a78b2",
   "metadata": {},
   "outputs": [],
   "source": [
    "import pandas as pd\n",
    "import numpy as np\n",
    "import matplotlib.pyplot as plt\n",
    "import seaborn as sns"
   ]
  },
  {
   "cell_type": "markdown",
   "id": "29a4739e-c5dd-4cd9-9549-79136cfa4297",
   "metadata": {},
   "source": [
    "**Read the data**"
   ]
  },
  {
   "cell_type": "code",
   "execution_count": 3,
   "id": "b544516f-2c92-4883-89c9-13313b659aeb",
   "metadata": {},
   "outputs": [
    {
     "data": {
      "text/html": [
       "<div>\n",
       "<style scoped>\n",
       "    .dataframe tbody tr th:only-of-type {\n",
       "        vertical-align: middle;\n",
       "    }\n",
       "\n",
       "    .dataframe tbody tr th {\n",
       "        vertical-align: top;\n",
       "    }\n",
       "\n",
       "    .dataframe thead th {\n",
       "        text-align: right;\n",
       "    }\n",
       "</style>\n",
       "<table border=\"1\" class=\"dataframe\">\n",
       "  <thead>\n",
       "    <tr style=\"text-align: right;\">\n",
       "      <th></th>\n",
       "      <th>case_id</th>\n",
       "      <th>continent</th>\n",
       "      <th>education_of_employee</th>\n",
       "      <th>has_job_experience</th>\n",
       "      <th>requires_job_training</th>\n",
       "      <th>no_of_employees</th>\n",
       "      <th>yr_of_estab</th>\n",
       "      <th>region_of_employment</th>\n",
       "      <th>prevailing_wage</th>\n",
       "      <th>unit_of_wage</th>\n",
       "      <th>full_time_position</th>\n",
       "      <th>case_status</th>\n",
       "    </tr>\n",
       "  </thead>\n",
       "  <tbody>\n",
       "    <tr>\n",
       "      <th>0</th>\n",
       "      <td>EZYV01</td>\n",
       "      <td>Asia</td>\n",
       "      <td>High School</td>\n",
       "      <td>N</td>\n",
       "      <td>N</td>\n",
       "      <td>14513</td>\n",
       "      <td>2007</td>\n",
       "      <td>West</td>\n",
       "      <td>592.2029</td>\n",
       "      <td>Hour</td>\n",
       "      <td>Y</td>\n",
       "      <td>Denied</td>\n",
       "    </tr>\n",
       "    <tr>\n",
       "      <th>1</th>\n",
       "      <td>EZYV02</td>\n",
       "      <td>Asia</td>\n",
       "      <td>Master's</td>\n",
       "      <td>Y</td>\n",
       "      <td>N</td>\n",
       "      <td>2412</td>\n",
       "      <td>2002</td>\n",
       "      <td>Northeast</td>\n",
       "      <td>83425.6500</td>\n",
       "      <td>Year</td>\n",
       "      <td>Y</td>\n",
       "      <td>Certified</td>\n",
       "    </tr>\n",
       "    <tr>\n",
       "      <th>2</th>\n",
       "      <td>EZYV03</td>\n",
       "      <td>Asia</td>\n",
       "      <td>Bachelor's</td>\n",
       "      <td>N</td>\n",
       "      <td>Y</td>\n",
       "      <td>44444</td>\n",
       "      <td>2008</td>\n",
       "      <td>West</td>\n",
       "      <td>122996.8600</td>\n",
       "      <td>Year</td>\n",
       "      <td>Y</td>\n",
       "      <td>Denied</td>\n",
       "    </tr>\n",
       "    <tr>\n",
       "      <th>3</th>\n",
       "      <td>EZYV04</td>\n",
       "      <td>Asia</td>\n",
       "      <td>Bachelor's</td>\n",
       "      <td>N</td>\n",
       "      <td>N</td>\n",
       "      <td>98</td>\n",
       "      <td>1897</td>\n",
       "      <td>West</td>\n",
       "      <td>83434.0300</td>\n",
       "      <td>Year</td>\n",
       "      <td>Y</td>\n",
       "      <td>Denied</td>\n",
       "    </tr>\n",
       "    <tr>\n",
       "      <th>4</th>\n",
       "      <td>EZYV05</td>\n",
       "      <td>Africa</td>\n",
       "      <td>Master's</td>\n",
       "      <td>Y</td>\n",
       "      <td>N</td>\n",
       "      <td>1082</td>\n",
       "      <td>2005</td>\n",
       "      <td>South</td>\n",
       "      <td>149907.3900</td>\n",
       "      <td>Year</td>\n",
       "      <td>Y</td>\n",
       "      <td>Certified</td>\n",
       "    </tr>\n",
       "  </tbody>\n",
       "</table>\n",
       "</div>"
      ],
      "text/plain": [
       "  case_id continent education_of_employee has_job_experience  \\\n",
       "0  EZYV01      Asia           High School                  N   \n",
       "1  EZYV02      Asia              Master's                  Y   \n",
       "2  EZYV03      Asia            Bachelor's                  N   \n",
       "3  EZYV04      Asia            Bachelor's                  N   \n",
       "4  EZYV05    Africa              Master's                  Y   \n",
       "\n",
       "  requires_job_training  no_of_employees  yr_of_estab region_of_employment  \\\n",
       "0                     N            14513         2007                 West   \n",
       "1                     N             2412         2002            Northeast   \n",
       "2                     Y            44444         2008                 West   \n",
       "3                     N               98         1897                 West   \n",
       "4                     N             1082         2005                South   \n",
       "\n",
       "   prevailing_wage unit_of_wage full_time_position case_status  \n",
       "0         592.2029         Hour                  Y      Denied  \n",
       "1       83425.6500         Year                  Y   Certified  \n",
       "2      122996.8600         Year                  Y      Denied  \n",
       "3       83434.0300         Year                  Y      Denied  \n",
       "4      149907.3900         Year                  Y   Certified  "
      ]
     },
     "execution_count": 3,
     "metadata": {},
     "output_type": "execute_result"
    }
   ],
   "source": [
    "visa_df=pd.read_csv(r\"C:\\Users\\Admin\\Documents\\naresh IT\\EDA(EXPOLRETREE DATA  ANALYSIS)\\Visadataset.csv\")\n",
    "visa_df.head()"
   ]
  },
  {
   "cell_type": "markdown",
   "id": "ae825f49-357b-4300-9e2a-675871551fed",
   "metadata": {},
   "source": [
    "**Divide data into categorical and Numerical columns**"
   ]
  },
  {
   "cell_type": "code",
   "execution_count": 4,
   "id": "c4b65490-8dd8-4593-a26a-01da9d1e43fb",
   "metadata": {},
   "outputs": [
    {
     "data": {
      "text/plain": [
       "Index(['no_of_employees', 'yr_of_estab', 'prevailing_wage'], dtype='object')"
      ]
     },
     "execution_count": 4,
     "metadata": {},
     "output_type": "execute_result"
    }
   ],
   "source": [
    "cat_col=visa_df.select_dtypes(include='object').columns\n",
    "cat_col\n",
    "num_col=visa_df.select_dtypes(exclude='object').columns\n",
    "num_col"
   ]
  },
  {
   "cell_type": "markdown",
   "id": "4fb9120f-3b89-476b-b7f6-c952a8114525",
   "metadata": {},
   "source": [
    "**prevailing_wage**"
   ]
  },
  {
   "cell_type": "code",
   "execution_count": 5,
   "id": "7ce52219-5215-4929-bbce-964822d73f07",
   "metadata": {},
   "outputs": [
    {
     "data": {
      "text/plain": [
       "0           592.2029\n",
       "1         83425.6500\n",
       "2        122996.8600\n",
       "3         83434.0300\n",
       "4        149907.3900\n",
       "            ...     \n",
       "25475     77092.5700\n",
       "25476    279174.7900\n",
       "25477    146298.8500\n",
       "25478     86154.7700\n",
       "25479     70876.9100\n",
       "Name: prevailing_wage, Length: 25480, dtype: float64"
      ]
     },
     "execution_count": 5,
     "metadata": {},
     "output_type": "execute_result"
    }
   ],
   "source": [
    "visa_df.prevailing_wage # serise method 1"
   ]
  },
  {
   "cell_type": "code",
   "execution_count": 6,
   "id": "30df7705-e6f4-4257-b53b-4d503a89e920",
   "metadata": {},
   "outputs": [
    {
     "data": {
      "text/plain": [
       "0           592.2029\n",
       "1         83425.6500\n",
       "2        122996.8600\n",
       "3         83434.0300\n",
       "4        149907.3900\n",
       "            ...     \n",
       "25475     77092.5700\n",
       "25476    279174.7900\n",
       "25477    146298.8500\n",
       "25478     86154.7700\n",
       "25479     70876.9100\n",
       "Name: prevailing_wage, Length: 25480, dtype: float64"
      ]
     },
     "execution_count": 6,
     "metadata": {},
     "output_type": "execute_result"
    }
   ],
   "source": [
    "visa_df['prevailing_wage'] #serise methiod-2"
   ]
  },
  {
   "cell_type": "code",
   "execution_count": 7,
   "id": "2c6606c9-a61f-4128-86cd-9dd5a5ec8574",
   "metadata": {},
   "outputs": [
    {
     "data": {
      "text/html": [
       "<div>\n",
       "<style scoped>\n",
       "    .dataframe tbody tr th:only-of-type {\n",
       "        vertical-align: middle;\n",
       "    }\n",
       "\n",
       "    .dataframe tbody tr th {\n",
       "        vertical-align: top;\n",
       "    }\n",
       "\n",
       "    .dataframe thead th {\n",
       "        text-align: right;\n",
       "    }\n",
       "</style>\n",
       "<table border=\"1\" class=\"dataframe\">\n",
       "  <thead>\n",
       "    <tr style=\"text-align: right;\">\n",
       "      <th></th>\n",
       "      <th>prevailing_wage</th>\n",
       "    </tr>\n",
       "  </thead>\n",
       "  <tbody>\n",
       "    <tr>\n",
       "      <th>0</th>\n",
       "      <td>592.2029</td>\n",
       "    </tr>\n",
       "    <tr>\n",
       "      <th>1</th>\n",
       "      <td>83425.6500</td>\n",
       "    </tr>\n",
       "    <tr>\n",
       "      <th>2</th>\n",
       "      <td>122996.8600</td>\n",
       "    </tr>\n",
       "    <tr>\n",
       "      <th>3</th>\n",
       "      <td>83434.0300</td>\n",
       "    </tr>\n",
       "    <tr>\n",
       "      <th>4</th>\n",
       "      <td>149907.3900</td>\n",
       "    </tr>\n",
       "    <tr>\n",
       "      <th>...</th>\n",
       "      <td>...</td>\n",
       "    </tr>\n",
       "    <tr>\n",
       "      <th>25475</th>\n",
       "      <td>77092.5700</td>\n",
       "    </tr>\n",
       "    <tr>\n",
       "      <th>25476</th>\n",
       "      <td>279174.7900</td>\n",
       "    </tr>\n",
       "    <tr>\n",
       "      <th>25477</th>\n",
       "      <td>146298.8500</td>\n",
       "    </tr>\n",
       "    <tr>\n",
       "      <th>25478</th>\n",
       "      <td>86154.7700</td>\n",
       "    </tr>\n",
       "    <tr>\n",
       "      <th>25479</th>\n",
       "      <td>70876.9100</td>\n",
       "    </tr>\n",
       "  </tbody>\n",
       "</table>\n",
       "<p>25480 rows × 1 columns</p>\n",
       "</div>"
      ],
      "text/plain": [
       "       prevailing_wage\n",
       "0             592.2029\n",
       "1           83425.6500\n",
       "2          122996.8600\n",
       "3           83434.0300\n",
       "4          149907.3900\n",
       "...                ...\n",
       "25475       77092.5700\n",
       "25476      279174.7900\n",
       "25477      146298.8500\n",
       "25478       86154.7700\n",
       "25479       70876.9100\n",
       "\n",
       "[25480 rows x 1 columns]"
      ]
     },
     "execution_count": 7,
     "metadata": {},
     "output_type": "execute_result"
    }
   ],
   "source": [
    "visa_df[['prevailing_wage']]"
   ]
  },
  {
   "cell_type": "code",
   "execution_count": 8,
   "id": "357416c8-555c-4c99-85bf-8215e3d794d0",
   "metadata": {},
   "outputs": [
    {
     "data": {
      "text/html": [
       "<div>\n",
       "<style scoped>\n",
       "    .dataframe tbody tr th:only-of-type {\n",
       "        vertical-align: middle;\n",
       "    }\n",
       "\n",
       "    .dataframe tbody tr th {\n",
       "        vertical-align: top;\n",
       "    }\n",
       "\n",
       "    .dataframe thead th {\n",
       "        text-align: right;\n",
       "    }\n",
       "</style>\n",
       "<table border=\"1\" class=\"dataframe\">\n",
       "  <thead>\n",
       "    <tr style=\"text-align: right;\">\n",
       "      <th></th>\n",
       "      <th>prevailing_wage</th>\n",
       "    </tr>\n",
       "  </thead>\n",
       "  <tbody>\n",
       "    <tr>\n",
       "      <th>0</th>\n",
       "      <td>592.2029</td>\n",
       "    </tr>\n",
       "    <tr>\n",
       "      <th>1</th>\n",
       "      <td>83425.6500</td>\n",
       "    </tr>\n",
       "    <tr>\n",
       "      <th>2</th>\n",
       "      <td>122996.8600</td>\n",
       "    </tr>\n",
       "    <tr>\n",
       "      <th>3</th>\n",
       "      <td>83434.0300</td>\n",
       "    </tr>\n",
       "    <tr>\n",
       "      <th>4</th>\n",
       "      <td>149907.3900</td>\n",
       "    </tr>\n",
       "    <tr>\n",
       "      <th>...</th>\n",
       "      <td>...</td>\n",
       "    </tr>\n",
       "    <tr>\n",
       "      <th>25475</th>\n",
       "      <td>77092.5700</td>\n",
       "    </tr>\n",
       "    <tr>\n",
       "      <th>25476</th>\n",
       "      <td>279174.7900</td>\n",
       "    </tr>\n",
       "    <tr>\n",
       "      <th>25477</th>\n",
       "      <td>146298.8500</td>\n",
       "    </tr>\n",
       "    <tr>\n",
       "      <th>25478</th>\n",
       "      <td>86154.7700</td>\n",
       "    </tr>\n",
       "    <tr>\n",
       "      <th>25479</th>\n",
       "      <td>70876.9100</td>\n",
       "    </tr>\n",
       "  </tbody>\n",
       "</table>\n",
       "<p>25480 rows × 1 columns</p>\n",
       "</div>"
      ],
      "text/plain": [
       "       prevailing_wage\n",
       "0             592.2029\n",
       "1           83425.6500\n",
       "2          122996.8600\n",
       "3           83434.0300\n",
       "4          149907.3900\n",
       "...                ...\n",
       "25475       77092.5700\n",
       "25476      279174.7900\n",
       "25477      146298.8500\n",
       "25478       86154.7700\n",
       "25479       70876.9100\n",
       "\n",
       "[25480 rows x 1 columns]"
      ]
     },
     "execution_count": 8,
     "metadata": {},
     "output_type": "execute_result"
    }
   ],
   "source": [
    "visa_df.take(indices=[8],axis=1) # indices= column/row index number, axis 0=row,1=column"
   ]
  },
  {
   "cell_type": "code",
   "execution_count": 9,
   "id": "52146ae6-3e25-4ebc-af84-4ef90ad05087",
   "metadata": {},
   "outputs": [
    {
     "data": {
      "text/html": [
       "<div>\n",
       "<style scoped>\n",
       "    .dataframe tbody tr th:only-of-type {\n",
       "        vertical-align: middle;\n",
       "    }\n",
       "\n",
       "    .dataframe tbody tr th {\n",
       "        vertical-align: top;\n",
       "    }\n",
       "\n",
       "    .dataframe thead th {\n",
       "        text-align: right;\n",
       "    }\n",
       "</style>\n",
       "<table border=\"1\" class=\"dataframe\">\n",
       "  <thead>\n",
       "    <tr style=\"text-align: right;\">\n",
       "      <th></th>\n",
       "      <th>prevailing_wage</th>\n",
       "    </tr>\n",
       "  </thead>\n",
       "  <tbody>\n",
       "    <tr>\n",
       "      <th>0</th>\n",
       "      <td>592.2029</td>\n",
       "    </tr>\n",
       "    <tr>\n",
       "      <th>1</th>\n",
       "      <td>83425.6500</td>\n",
       "    </tr>\n",
       "    <tr>\n",
       "      <th>2</th>\n",
       "      <td>122996.8600</td>\n",
       "    </tr>\n",
       "    <tr>\n",
       "      <th>3</th>\n",
       "      <td>83434.0300</td>\n",
       "    </tr>\n",
       "    <tr>\n",
       "      <th>4</th>\n",
       "      <td>149907.3900</td>\n",
       "    </tr>\n",
       "    <tr>\n",
       "      <th>...</th>\n",
       "      <td>...</td>\n",
       "    </tr>\n",
       "    <tr>\n",
       "      <th>25475</th>\n",
       "      <td>77092.5700</td>\n",
       "    </tr>\n",
       "    <tr>\n",
       "      <th>25476</th>\n",
       "      <td>279174.7900</td>\n",
       "    </tr>\n",
       "    <tr>\n",
       "      <th>25477</th>\n",
       "      <td>146298.8500</td>\n",
       "    </tr>\n",
       "    <tr>\n",
       "      <th>25478</th>\n",
       "      <td>86154.7700</td>\n",
       "    </tr>\n",
       "    <tr>\n",
       "      <th>25479</th>\n",
       "      <td>70876.9100</td>\n",
       "    </tr>\n",
       "  </tbody>\n",
       "</table>\n",
       "<p>25480 rows × 1 columns</p>\n",
       "</div>"
      ],
      "text/plain": [
       "       prevailing_wage\n",
       "0             592.2029\n",
       "1           83425.6500\n",
       "2          122996.8600\n",
       "3           83434.0300\n",
       "4          149907.3900\n",
       "...                ...\n",
       "25475       77092.5700\n",
       "25476      279174.7900\n",
       "25477      146298.8500\n",
       "25478       86154.7700\n",
       "25479       70876.9100\n",
       "\n",
       "[25480 rows x 1 columns]"
      ]
     },
     "execution_count": 9,
     "metadata": {},
     "output_type": "execute_result"
    }
   ],
   "source": [
    "visa_df.iloc[:,[8]] # row,cloumn"
   ]
  },
  {
   "cell_type": "code",
   "execution_count": 10,
   "id": "c0ea1395-1c7f-4048-abc0-236a6118631b",
   "metadata": {},
   "outputs": [
    {
     "data": {
      "text/html": [
       "<div>\n",
       "<style scoped>\n",
       "    .dataframe tbody tr th:only-of-type {\n",
       "        vertical-align: middle;\n",
       "    }\n",
       "\n",
       "    .dataframe tbody tr th {\n",
       "        vertical-align: top;\n",
       "    }\n",
       "\n",
       "    .dataframe thead th {\n",
       "        text-align: right;\n",
       "    }\n",
       "</style>\n",
       "<table border=\"1\" class=\"dataframe\">\n",
       "  <thead>\n",
       "    <tr style=\"text-align: right;\">\n",
       "      <th></th>\n",
       "      <th>prevailing_wage</th>\n",
       "    </tr>\n",
       "  </thead>\n",
       "  <tbody>\n",
       "    <tr>\n",
       "      <th>0</th>\n",
       "      <td>592.2029</td>\n",
       "    </tr>\n",
       "    <tr>\n",
       "      <th>1</th>\n",
       "      <td>83425.6500</td>\n",
       "    </tr>\n",
       "    <tr>\n",
       "      <th>2</th>\n",
       "      <td>122996.8600</td>\n",
       "    </tr>\n",
       "    <tr>\n",
       "      <th>3</th>\n",
       "      <td>83434.0300</td>\n",
       "    </tr>\n",
       "    <tr>\n",
       "      <th>4</th>\n",
       "      <td>149907.3900</td>\n",
       "    </tr>\n",
       "    <tr>\n",
       "      <th>...</th>\n",
       "      <td>...</td>\n",
       "    </tr>\n",
       "    <tr>\n",
       "      <th>25475</th>\n",
       "      <td>77092.5700</td>\n",
       "    </tr>\n",
       "    <tr>\n",
       "      <th>25476</th>\n",
       "      <td>279174.7900</td>\n",
       "    </tr>\n",
       "    <tr>\n",
       "      <th>25477</th>\n",
       "      <td>146298.8500</td>\n",
       "    </tr>\n",
       "    <tr>\n",
       "      <th>25478</th>\n",
       "      <td>86154.7700</td>\n",
       "    </tr>\n",
       "    <tr>\n",
       "      <th>25479</th>\n",
       "      <td>70876.9100</td>\n",
       "    </tr>\n",
       "  </tbody>\n",
       "</table>\n",
       "<p>25480 rows × 1 columns</p>\n",
       "</div>"
      ],
      "text/plain": [
       "       prevailing_wage\n",
       "0             592.2029\n",
       "1           83425.6500\n",
       "2          122996.8600\n",
       "3           83434.0300\n",
       "4          149907.3900\n",
       "...                ...\n",
       "25475       77092.5700\n",
       "25476      279174.7900\n",
       "25477      146298.8500\n",
       "25478       86154.7700\n",
       "25479       70876.9100\n",
       "\n",
       "[25480 rows x 1 columns]"
      ]
     },
     "execution_count": 10,
     "metadata": {},
     "output_type": "execute_result"
    }
   ],
   "source": [
    "visa_df.loc[:,['prevailing_wage']]"
   ]
  },
  {
   "cell_type": "markdown",
   "id": "8d1b8118-a8d7-46ee-857a-de1870782970",
   "metadata": {},
   "source": [
    "**importent method**"
   ]
  },
  {
   "cell_type": "code",
   "execution_count": 11,
   "id": "973868f2-61aa-4fa9-ab61-a25f5b2edd25",
   "metadata": {},
   "outputs": [
    {
     "data": {
      "text/html": [
       "<div>\n",
       "<style scoped>\n",
       "    .dataframe tbody tr th:only-of-type {\n",
       "        vertical-align: middle;\n",
       "    }\n",
       "\n",
       "    .dataframe tbody tr th {\n",
       "        vertical-align: top;\n",
       "    }\n",
       "\n",
       "    .dataframe thead th {\n",
       "        text-align: right;\n",
       "    }\n",
       "</style>\n",
       "<table border=\"1\" class=\"dataframe\">\n",
       "  <thead>\n",
       "    <tr style=\"text-align: right;\">\n",
       "      <th></th>\n",
       "      <th>prevailing_wage</th>\n",
       "    </tr>\n",
       "  </thead>\n",
       "  <tbody>\n",
       "    <tr>\n",
       "      <th>0</th>\n",
       "      <td>592.2029</td>\n",
       "    </tr>\n",
       "    <tr>\n",
       "      <th>1</th>\n",
       "      <td>83425.6500</td>\n",
       "    </tr>\n",
       "    <tr>\n",
       "      <th>2</th>\n",
       "      <td>122996.8600</td>\n",
       "    </tr>\n",
       "    <tr>\n",
       "      <th>3</th>\n",
       "      <td>83434.0300</td>\n",
       "    </tr>\n",
       "    <tr>\n",
       "      <th>4</th>\n",
       "      <td>149907.3900</td>\n",
       "    </tr>\n",
       "    <tr>\n",
       "      <th>...</th>\n",
       "      <td>...</td>\n",
       "    </tr>\n",
       "    <tr>\n",
       "      <th>25475</th>\n",
       "      <td>77092.5700</td>\n",
       "    </tr>\n",
       "    <tr>\n",
       "      <th>25476</th>\n",
       "      <td>279174.7900</td>\n",
       "    </tr>\n",
       "    <tr>\n",
       "      <th>25477</th>\n",
       "      <td>146298.8500</td>\n",
       "    </tr>\n",
       "    <tr>\n",
       "      <th>25478</th>\n",
       "      <td>86154.7700</td>\n",
       "    </tr>\n",
       "    <tr>\n",
       "      <th>25479</th>\n",
       "      <td>70876.9100</td>\n",
       "    </tr>\n",
       "  </tbody>\n",
       "</table>\n",
       "<p>25480 rows × 1 columns</p>\n",
       "</div>"
      ],
      "text/plain": [
       "       prevailing_wage\n",
       "0             592.2029\n",
       "1           83425.6500\n",
       "2          122996.8600\n",
       "3           83434.0300\n",
       "4          149907.3900\n",
       "...                ...\n",
       "25475       77092.5700\n",
       "25476      279174.7900\n",
       "25477      146298.8500\n",
       "25478       86154.7700\n",
       "25479       70876.9100\n",
       "\n",
       "[25480 rows x 1 columns]"
      ]
     },
     "execution_count": 11,
     "metadata": {},
     "output_type": "execute_result"
    }
   ],
   "source": [
    "visa_df[\"prevailing_wage\"]\n",
    "visa_df[['prevailing_wage']]\n",
    "visa_df.iloc[:,[8]]\n",
    "visa_df.loc[:,['prevailing_wage']]"
   ]
  },
  {
   "cell_type": "markdown",
   "id": "5580637d-f466-4a9e-bd10-c0b42369f32e",
   "metadata": {},
   "source": [
    "## We need to find out \n",
    "\n",
    "- len\n",
    "\n",
    "- min\n",
    "\n",
    "- max\n",
    "\n",
    "- avrage(mean)\n",
    "\n",
    "- standard deviation std\n",
    "\n",
    "- median\n",
    "\n",
    "- 25p\n",
    "\n",
    "- 50p\n",
    "\n",
    "- 75p"
   ]
  },
  {
   "cell_type": "markdown",
   "id": "7f3b4a42-8595-4a8f-a791-77ecb28041dc",
   "metadata": {},
   "source": [
    "**length**"
   ]
  },
  {
   "cell_type": "code",
   "execution_count": 12,
   "id": "fa9b8491-da07-414e-9717-8d30a78c2acb",
   "metadata": {},
   "outputs": [
    {
     "data": {
      "text/plain": [
       "25480"
      ]
     },
     "execution_count": 12,
     "metadata": {},
     "output_type": "execute_result"
    }
   ],
   "source": [
    "len(visa_df['prevailing_wage'])"
   ]
  },
  {
   "cell_type": "markdown",
   "id": "62983acf-0df5-48ca-af8b-b1a29f0ada2b",
   "metadata": {},
   "source": [
    "**MIN**"
   ]
  },
  {
   "cell_type": "code",
   "execution_count": 13,
   "id": "134aa781-7e0d-459b-9b40-125cbee6cafb",
   "metadata": {},
   "outputs": [
    {
     "data": {
      "text/plain": [
       "2.1367"
      ]
     },
     "execution_count": 13,
     "metadata": {},
     "output_type": "execute_result"
    }
   ],
   "source": [
    "min(visa_df['prevailing_wage'])"
   ]
  },
  {
   "cell_type": "markdown",
   "id": "91fd6066-e131-40b0-8542-89c744febf88",
   "metadata": {},
   "source": [
    "**MAX**"
   ]
  },
  {
   "cell_type": "code",
   "execution_count": 14,
   "id": "658c478f-5534-40ca-96a3-680bcef1a29a",
   "metadata": {},
   "outputs": [
    {
     "data": {
      "text/plain": [
       "319210.27"
      ]
     },
     "execution_count": 14,
     "metadata": {},
     "output_type": "execute_result"
    }
   ],
   "source": [
    "max(visa_df['prevailing_wage'])"
   ]
  },
  {
   "cell_type": "code",
   "execution_count": 15,
   "id": "dd2bb7eb-8d72-4410-a3f7-e2648d92f93a",
   "metadata": {},
   "outputs": [
    {
     "name": "stdout",
     "output_type": "stream",
     "text": [
      "The total sample wages: 25480\n",
      "Maximum wage:319210.27\n",
      "Minimum wage: 2.1367\n"
     ]
    }
   ],
   "source": [
    "count=len(visa_df['prevailing_wage'])\n",
    "min_wage=min(visa_df['prevailing_wage'])\n",
    "max_wage=max(visa_df['prevailing_wage'])\n",
    "print(f'The total sample wages: {count}')\n",
    "print(f'Maximum wage:{max_wage}')\n",
    "print(f'Minimum wage: {min_wage}')"
   ]
  },
  {
   "cell_type": "markdown",
   "id": "2e8a2d0c-7a1d-4631-92a1-87fd52964026",
   "metadata": {},
   "source": [
    "**Mean**"
   ]
  },
  {
   "cell_type": "code",
   "execution_count": 16,
   "id": "77465b3f-99d5-4bd5-bc99-1b439ac102a0",
   "metadata": {},
   "outputs": [
    {
     "data": {
      "text/plain": [
       "prevailing_wage    74455.814592\n",
       "dtype: float64"
      ]
     },
     "execution_count": 16,
     "metadata": {},
     "output_type": "execute_result"
    }
   ],
   "source": [
    "visa_df[['prevailing_wage']].mean()"
   ]
  },
  {
   "cell_type": "markdown",
   "id": "7e3b1fce-676f-48e4-997d-bbcccb1c967e",
   "metadata": {},
   "source": [
    "**median**"
   ]
  },
  {
   "cell_type": "code",
   "execution_count": 17,
   "id": "5bfb9c96-b09f-487e-b3d9-89147939def6",
   "metadata": {},
   "outputs": [
    {
     "data": {
      "text/plain": [
       "prevailing_wage    70308.21\n",
       "dtype: float64"
      ]
     },
     "execution_count": 17,
     "metadata": {},
     "output_type": "execute_result"
    }
   ],
   "source": [
    "visa_df[['prevailing_wage']].median()"
   ]
  },
  {
   "cell_type": "code",
   "execution_count": 18,
   "id": "4b5cb13b-32de-4fb4-a522-377f3198e9ee",
   "metadata": {},
   "outputs": [
    {
     "name": "stdout",
     "output_type": "stream",
     "text": [
      "The avrage wage is : 74455.81\n",
      "The median wage is: 70308.21\n"
     ]
    }
   ],
   "source": [
    "mean_wage=round(visa_df['prevailing_wage'].mean(),2)\n",
    "median_wage=round(visa_df['prevailing_wage'].median(),2)\n",
    "print(f'The avrage wage is : {mean_wage}')\n",
    "print(f'The median wage is: {median_wage}')"
   ]
  },
  {
   "cell_type": "markdown",
   "id": "150ef25c-87c8-4ffe-a696-d85e80def84e",
   "metadata": {},
   "source": [
    "- Mode is not sutable metric for numerical analysis\n",
    "\n",
    "- Diffrent observations can have same values."
   ]
  },
  {
   "cell_type": "markdown",
   "id": "1c97032a-0868-4c2e-8ce8-ff77dd3bb6ff",
   "metadata": {},
   "source": [
    "**Using numpy**"
   ]
  },
  {
   "cell_type": "code",
   "execution_count": 19,
   "id": "6e73225e-46cb-46e0-a07f-93c1780f91fe",
   "metadata": {},
   "outputs": [
    {
     "data": {
      "text/plain": [
       "74455.81459209183"
      ]
     },
     "execution_count": 19,
     "metadata": {},
     "output_type": "execute_result"
    }
   ],
   "source": [
    "np.mean(visa_df['prevailing_wage']) "
   ]
  },
  {
   "cell_type": "code",
   "execution_count": 20,
   "id": "505a0a56-d132-454d-93e7-ffb126bb03d6",
   "metadata": {},
   "outputs": [
    {
     "data": {
      "text/plain": [
       "70308.20999999999"
      ]
     },
     "execution_count": 20,
     "metadata": {},
     "output_type": "execute_result"
    }
   ],
   "source": [
    "np.median(visa_df['prevailing_wage'])"
   ]
  },
  {
   "cell_type": "markdown",
   "id": "5ede312e-bcca-4946-a8a1-c9d599ef61d6",
   "metadata": {},
   "source": [
    "**Standard_deviation**"
   ]
  },
  {
   "cell_type": "code",
   "execution_count": 21,
   "id": "f4d0f562-3356-4d45-b7c1-c16e61343f79",
   "metadata": {},
   "outputs": [
    {
     "data": {
      "text/plain": [
       "52815.94232687357"
      ]
     },
     "execution_count": 21,
     "metadata": {},
     "output_type": "execute_result"
    }
   ],
   "source": [
    "std_wage=visa_df['prevailing_wage'].std()\n",
    "std_wage "
   ]
  },
  {
   "cell_type": "code",
   "execution_count": 22,
   "id": "82bc517a-a5d6-478c-a214-e6f6df7594f8",
   "metadata": {},
   "outputs": [
    {
     "name": "stdout",
     "output_type": "stream",
     "text": [
      "Total wages: 25480\n",
      "Minimam wages: 2.14\n",
      "Maximam wages: 319210.27\n",
      "Avrage wages: 74455.81\n",
      "Meadian wage: 70308.21\n",
      "stansard divisian: 52815.94\n"
     ]
    }
   ],
   "source": [
    "count=len(visa_df['prevailing_wage'])\n",
    "min_wage=round(visa_df['prevailing_wage'].min(),2)\n",
    "max_wage=round(visa_df['prevailing_wage'].max(),2)\n",
    "mean_wage=round(visa_df['prevailing_wage'].mean(),2)\n",
    "median_wage=round(visa_df['prevailing_wage'].median(),2)\n",
    "std_wage=round(visa_df['prevailing_wage'].std(),2)\n",
    "print(f'Total wages: {count}')\n",
    "print(f'Minimam wages: {min_wage}')\n",
    "print(f'Maximam wages: {max_wage}')\n",
    "print(f'Avrage wages: {mean_wage}')\n",
    "print(f'Meadian wage: {median_wage}')\n",
    "print(f'stansard divisian: {std_wage}')"
   ]
  },
  {
   "cell_type": "markdown",
   "id": "09394b88-9bb9-4f1a-9998-f74d604e76bb",
   "metadata": {},
   "source": [
    "## Now lets make a dataframe from this all above data\n",
    "\n",
    "- Step-1: Create a empty list, keep all the values in a list\n",
    "\n",
    "- Step-2: Create a index list= ['count','min','max']\n",
    "\n",
    "- Step-3: Create a cols list= ['pwage']"
   ]
  },
  {
   "cell_type": "code",
   "execution_count": 23,
   "id": "9477595d-cae5-4398-89ee-c8070cf09658",
   "metadata": {},
   "outputs": [
    {
     "data": {
      "text/html": [
       "<div>\n",
       "<style scoped>\n",
       "    .dataframe tbody tr th:only-of-type {\n",
       "        vertical-align: middle;\n",
       "    }\n",
       "\n",
       "    .dataframe tbody tr th {\n",
       "        vertical-align: top;\n",
       "    }\n",
       "\n",
       "    .dataframe thead th {\n",
       "        text-align: right;\n",
       "    }\n",
       "</style>\n",
       "<table border=\"1\" class=\"dataframe\">\n",
       "  <thead>\n",
       "    <tr style=\"text-align: right;\">\n",
       "      <th></th>\n",
       "      <th>prevailing_wage</th>\n",
       "    </tr>\n",
       "  </thead>\n",
       "  <tbody>\n",
       "    <tr>\n",
       "      <th>count</th>\n",
       "      <td>25480.00</td>\n",
       "    </tr>\n",
       "    <tr>\n",
       "      <th>min</th>\n",
       "      <td>2.14</td>\n",
       "    </tr>\n",
       "    <tr>\n",
       "      <th>max</th>\n",
       "      <td>319210.27</td>\n",
       "    </tr>\n",
       "    <tr>\n",
       "      <th>avrage</th>\n",
       "      <td>74455.81</td>\n",
       "    </tr>\n",
       "    <tr>\n",
       "      <th>median</th>\n",
       "      <td>70308.21</td>\n",
       "    </tr>\n",
       "    <tr>\n",
       "      <th>std</th>\n",
       "      <td>52815.94</td>\n",
       "    </tr>\n",
       "  </tbody>\n",
       "</table>\n",
       "</div>"
      ],
      "text/plain": [
       "        prevailing_wage\n",
       "count          25480.00\n",
       "min                2.14\n",
       "max           319210.27\n",
       "avrage         74455.81\n",
       "median         70308.21\n",
       "std            52815.94"
      ]
     },
     "execution_count": 23,
     "metadata": {},
     "output_type": "execute_result"
    }
   ],
   "source": [
    "values=[count,min_wage,max_wage,mean_wage,median_wage,std_wage]# actual value\n",
    "index=['count','min','max','avrage','median','std']# index of actual values\n",
    "cols=['prevailing_wage']# actual values column name.\n",
    "pd.DataFrame(values,index=index,columns=cols)"
   ]
  },
  {
   "cell_type": "markdown",
   "id": "ae9102ff-52fe-43ad-9e0d-a635acef3e69",
   "metadata": {},
   "source": [
    "**25p-50p-75p**"
   ]
  },
  {
   "cell_type": "markdown",
   "id": "6af414b6-d46c-4589-ad7d-f7e5ec7812ba",
   "metadata": {},
   "source": [
    "**Percentile**\n",
    "\n",
    "- Innumpy we have percentile.\n",
    "\n",
    "- The method is `np.percentile()`\n",
    "\n",
    "    - It takes 2 arguments\n",
    " \n",
    "    - a:array means data(column name)\n",
    " \n",
    "    - q: how much % value we want\n",
    " \n",
    "    - `if we want 25p then q=25%`\n",
    " \n",
    "- SYN= **np.percentile(data,percent_value)**\n",
    " \n",
    "**Quantile**\n",
    "\n",
    "- In numpy we also have quantile.\n",
    "\n",
    "- The method is `np.quantile()`\n",
    "\n",
    "    - It takes 2 arguments\n",
    " \n",
    "    - a:array means data(column name)\n",
    " \n",
    "    - q: how much % value we want, in 0.somthing manner\n",
    " \n",
    "    - `if we want 25p then q=0.25`\n",
    " \n",
    "    - `if we want 25p then q=0.25`\n",
    "\n",
    "-  SYN= **np.percentile(data,percent_value)**"
   ]
  },
  {
   "cell_type": "code",
   "execution_count": 24,
   "id": "a0082eb5-5429-4548-b171-74cc7fae152e",
   "metadata": {},
   "outputs": [
    {
     "data": {
      "text/plain": [
       "34015.479999999996"
      ]
     },
     "execution_count": 24,
     "metadata": {},
     "output_type": "execute_result"
    }
   ],
   "source": [
    "np.percentile(visa_df['prevailing_wage'],25) # 0 to 100"
   ]
  },
  {
   "cell_type": "code",
   "execution_count": 25,
   "id": "a2b05ea3-d441-491a-bbd1-669214757789",
   "metadata": {},
   "outputs": [
    {
     "data": {
      "text/plain": [
       "34015.479999999996"
      ]
     },
     "execution_count": 25,
     "metadata": {},
     "output_type": "execute_result"
    }
   ],
   "source": [
    "np.quantile(visa_df['prevailing_wage'],0.25) # 0 to 1"
   ]
  },
  {
   "cell_type": "code",
   "execution_count": 26,
   "id": "08a1c5cd-cbe4-41c2-9d1b-2d322f7cd787",
   "metadata": {},
   "outputs": [
    {
     "name": "stdout",
     "output_type": "stream",
     "text": [
      "25 percentile: 34015.48\n",
      "25 quantile: 34015.48\n",
      "50 percentile: 70308.21\n",
      "50 quantile: 70308.21\n",
      "75 percentile: 107735.51\n",
      "75 quantile: 107735.51\n"
     ]
    }
   ],
   "source": [
    "wage_25p=round(np.percentile(visa_df['prevailing_wage'],25),2)\n",
    "wage_25pq=round(np.quantile(visa_df['prevailing_wage'],0.25),2)\n",
    "wage_50p=round(np.percentile(visa_df['prevailing_wage'],50),2)\n",
    "wage_50pq=round(np.quantile(visa_df['prevailing_wage'],0.50),2)\n",
    "wage_75p=round(np.percentile(visa_df['prevailing_wage'],75),2)\n",
    "wage_75pq=round(np.quantile(visa_df['prevailing_wage'],0.75),2)\n",
    "\n",
    "# alwase choose percentaile\n",
    "print(f'25 percentile: {wage_25p}')\n",
    "print(f'25 quantile: {wage_25pq}')\n",
    "print(f'50 percentile: {wage_50p}')\n",
    "print(f'50 quantile: {wage_50pq}')\n",
    "print(f'75 percentile: {wage_75p}')\n",
    "print(f'75 quantile: {wage_75pq}')"
   ]
  },
  {
   "cell_type": "code",
   "execution_count": 27,
   "id": "84d568aa-c573-4132-9b5e-4fa2b10a8970",
   "metadata": {},
   "outputs": [
    {
     "data": {
      "text/html": [
       "<div>\n",
       "<style scoped>\n",
       "    .dataframe tbody tr th:only-of-type {\n",
       "        vertical-align: middle;\n",
       "    }\n",
       "\n",
       "    .dataframe tbody tr th {\n",
       "        vertical-align: top;\n",
       "    }\n",
       "\n",
       "    .dataframe thead th {\n",
       "        text-align: right;\n",
       "    }\n",
       "</style>\n",
       "<table border=\"1\" class=\"dataframe\">\n",
       "  <thead>\n",
       "    <tr style=\"text-align: right;\">\n",
       "      <th></th>\n",
       "      <th>prevailing_wage</th>\n",
       "    </tr>\n",
       "  </thead>\n",
       "  <tbody>\n",
       "    <tr>\n",
       "      <th>total_wage</th>\n",
       "      <td>25480.00</td>\n",
       "    </tr>\n",
       "    <tr>\n",
       "      <th>minimum wage</th>\n",
       "      <td>2.14</td>\n",
       "    </tr>\n",
       "    <tr>\n",
       "      <th>maximam wage</th>\n",
       "      <td>319210.27</td>\n",
       "    </tr>\n",
       "    <tr>\n",
       "      <th>avrage wage</th>\n",
       "      <td>74455.81</td>\n",
       "    </tr>\n",
       "    <tr>\n",
       "      <th>median wage</th>\n",
       "      <td>70308.21</td>\n",
       "    </tr>\n",
       "    <tr>\n",
       "      <th>std wage</th>\n",
       "      <td>52815.94</td>\n",
       "    </tr>\n",
       "    <tr>\n",
       "      <th>25%</th>\n",
       "      <td>34015.48</td>\n",
       "    </tr>\n",
       "    <tr>\n",
       "      <th>50%</th>\n",
       "      <td>70308.21</td>\n",
       "    </tr>\n",
       "    <tr>\n",
       "      <th>75%</th>\n",
       "      <td>107735.51</td>\n",
       "    </tr>\n",
       "  </tbody>\n",
       "</table>\n",
       "</div>"
      ],
      "text/plain": [
       "              prevailing_wage\n",
       "total_wage           25480.00\n",
       "minimum wage             2.14\n",
       "maximam wage        319210.27\n",
       "avrage wage          74455.81\n",
       "median wage          70308.21\n",
       "std wage             52815.94\n",
       "25%                  34015.48\n",
       "50%                  70308.21\n",
       "75%                 107735.51"
      ]
     },
     "execution_count": 27,
     "metadata": {},
     "output_type": "execute_result"
    }
   ],
   "source": [
    "values=[count,min_wage,max_wage,mean_wage,median_wage,std_wage,wage_25p,wage_50p,wage_75p]\n",
    "index=['total_wage','minimum wage','maximam wage','avrage wage','median wage','std wage','25%','50%','75%']\n",
    "cols=['prevailing_wage']\n",
    "pd.DataFrame(values,index=index,columns=cols)"
   ]
  },
  {
   "cell_type": "markdown",
   "id": "5d17bf04-de96-481e-a5e3-4b428edc1c04",
   "metadata": {},
   "source": [
    "## Impirical rools( when data fallows a normal distributionm)"
   ]
  },
  {
   "cell_type": "markdown",
   "id": "a1d3d57d-c2f9-443b-bb9f-ee762720d093",
   "metadata": {},
   "source": [
    "<center>\n",
    "    <img id=\"dimg_XUHVZ_3ZGo6UseMP8uvlgQs_12\" src=\"data:image/png;base64,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\" class=\"YQ4gaf\" height=\"159\" style=\"object-position:25% 75%\" width=\"400px\" alt=\"Empirical Rule - Algae Education Services\" data-csiid=\"XUHVZ_3ZGo6UseMP8uvlgQs_37\" data-atf=\"7\">\n",
    "</center>"
   ]
  },
  {
   "cell_type": "markdown",
   "id": "974f36ca-7c01-4af7-8839-fe24df0864a2",
   "metadata": {},
   "source": [
    "* U-1*sigma to U+1*sigma : 68%\n",
    "\n",
    "* U-2*sigma to U+2*sigma : 95%\n",
    "\n",
    "* U-3*sigma to U+3*sigma : 99.7%"
   ]
  },
  {
   "cell_type": "code",
   "execution_count": 28,
   "id": "c767126c-164c-4659-a6ad-25aadeb338c4",
   "metadata": {},
   "outputs": [
    {
     "data": {
      "text/plain": [
       "(74455.81, 52815.94)"
      ]
     },
     "execution_count": 28,
     "metadata": {},
     "output_type": "execute_result"
    }
   ],
   "source": [
    "mean_wage,std_wage"
   ]
  },
  {
   "cell_type": "markdown",
   "id": "470c703f-796f-43f8-8e4b-68d4fa25801a",
   "metadata": {},
   "source": [
    "**calculate U-1*sigma**"
   ]
  },
  {
   "cell_type": "code",
   "execution_count": 37,
   "id": "fc2f67c1-d519-4080-9d82-48e1a72e24b6",
   "metadata": {},
   "outputs": [
    {
     "name": "stdout",
     "output_type": "stream",
     "text": [
      "21639.87 127271.75 -31176.07 180087.69 -83992.01 232903.63\n"
     ]
    }
   ],
   "source": [
    "################################# 68% data #######################\n",
    "val_minus_1=round(mean_wage-1*std_wage,2)\n",
    "val_plus_1=round(mean_wage+1*std_wage,2)\n",
    "\n",
    "################################# 95% data #######################\n",
    "val_minus_2=round(mean_wage-2*std_wage,2)\n",
    "val_plus_2=round(mean_wage+2*std_wage,2)\n",
    "\n",
    "################################# 99.7% data #######################\n",
    "val_minus_3=round(mean_wage-3*std_wage,2)\n",
    "val_plus_3=round(mean_wage+3*std_wage,2)\n",
    "\n",
    "print(val_minus_1,val_plus_1,val_minus_2,val_plus_2,val_minus_3,val_plus_3)"
   ]
  },
  {
   "cell_type": "markdown",
   "id": "75414a30-694a-4952-a7bb-4c9a2d7978a7",
   "metadata": {},
   "source": [
    "- 68% of observation have values between `21639.87 to 127271.75`\n",
    "\n",
    "- 95% of observation have values between `-31176.07 180087.69`\n",
    "\n",
    "- 99.7% of observation have values between `-83992.01 232903.63`\n"
   ]
  },
  {
   "cell_type": "markdown",
   "id": "27754744-4d59-48ae-ba0a-c0e535d34d69",
   "metadata": {},
   "source": [
    "## Now we will check the validation of above data\n",
    "\n",
    "- we will write 2 condition **val>21639.87 && val<127271.75** is 68% of full observation.\n",
    "\n",
    "- we will write 2 condition **val>-31176.07  && val<180087.69** is 95% of full observation\n",
    "\n",
    "- we will write 2 condition **val>-83992.01 && val<232903.63** is 99.7% of full observation"
   ]
  },
  {
   "cell_type": "markdown",
   "id": "8bca20f9-fd95-463d-8547-cab19e0ad94c",
   "metadata": {},
   "source": [
    "## Find 68% of full data "
   ]
  },
  {
   "cell_type": "code",
   "execution_count": 43,
   "id": "ef9b1a41-ebf6-4c87-8f31-a26bf3203a70",
   "metadata": {},
   "outputs": [
    {
     "data": {
      "text/plain": [
       "0        False\n",
       "1         True\n",
       "2         True\n",
       "3         True\n",
       "4        False\n",
       "         ...  \n",
       "25475     True\n",
       "25476    False\n",
       "25477    False\n",
       "25478     True\n",
       "25479     True\n",
       "Name: prevailing_wage, Length: 25480, dtype: bool"
      ]
     },
     "execution_count": 43,
     "metadata": {},
     "output_type": "execute_result"
    }
   ],
   "source": [
    "con1=visa_df['prevailing_wage']>val_minus_1\n",
    "con2=visa_df['prevailing_wage']<val_plus_1\n",
    "con1&con2 # these many's true value is 68% of full data"
   ]
  },
  {
   "cell_type": "code",
   "execution_count": 46,
   "id": "cb1d32a5-cd50-47fe-8f46-aa1914773245",
   "metadata": {},
   "outputs": [
    {
     "data": {
      "text/plain": [
       "17171"
      ]
     },
     "execution_count": 46,
     "metadata": {},
     "output_type": "execute_result"
    }
   ],
   "source": [
    "len(visa_df[con1&con2]) # count of 68% value"
   ]
  },
  {
   "cell_type": "code",
   "execution_count": 50,
   "id": "ba90c5d8-c95e-4de5-9344-e50f9555f0be",
   "metadata": {},
   "outputs": [
    {
     "data": {
      "text/plain": [
       "17326.4"
      ]
     },
     "execution_count": 50,
     "metadata": {},
     "output_type": "execute_result"
    }
   ],
   "source": [
    "#Now we will find 68% of full data\n",
    "len(visa_df)*68/100"
   ]
  },
  {
   "cell_type": "code",
   "execution_count": 51,
   "id": "da91c10d-9972-4ab0-962b-5b0cf826d60e",
   "metadata": {},
   "outputs": [
    {
     "data": {
      "text/plain": [
       "0.673901098901099"
      ]
     },
     "execution_count": 51,
     "metadata": {},
     "output_type": "execute_result"
    }
   ],
   "source": [
    "len(visa_df[con1&con2])/len(visa_df) # % value of condition (68 wali) to full data"
   ]
  },
  {
   "cell_type": "code",
   "execution_count": 53,
   "id": "0bf548fd-b84c-4559-b258-3ee6b8201585",
   "metadata": {},
   "outputs": [
    {
     "data": {
      "text/plain": [
       "0.67"
      ]
     },
     "execution_count": 53,
     "metadata": {},
     "output_type": "execute_result"
    }
   ],
   "source": [
    "round(len(visa_df[con1&con2])/len(visa_df),2) #round of to 2 decimal digit"
   ]
  },
  {
   "cell_type": "code",
   "execution_count": 56,
   "id": "1222533f-91e9-4902-8997-6c1d7572964c",
   "metadata": {},
   "outputs": [
    {
     "data": {
      "text/plain": [
       "24582"
      ]
     },
     "execution_count": 56,
     "metadata": {},
     "output_type": "execute_result"
    }
   ],
   "source": [
    "con3= visa_df['prevailing_wage']>val_minus_2 \n",
    "con4= visa_df['prevailing_wage']<val_plus_2\n",
    "con3&con4\n",
    "len(visa_df[con3&con4]) # it should  be 95% of full data"
   ]
  },
  {
   "cell_type": "code",
   "execution_count": 61,
   "id": "c1073f42-8d3c-487e-bfeb-10a4f406a2e0",
   "metadata": {},
   "outputs": [
    {
     "data": {
      "text/plain": [
       "0.9647566718995291"
      ]
     },
     "execution_count": 61,
     "metadata": {},
     "output_type": "execute_result"
    }
   ],
   "source": [
    "# Lets check % \n",
    "len(visa_df[con3&con4])/len(visa_df)"
   ]
  },
  {
   "cell_type": "code",
   "execution_count": 59,
   "id": "74d81f5a-bdbd-457d-8bbf-66e0737fd780",
   "metadata": {},
   "outputs": [
    {
     "data": {
      "text/plain": [
       "25186"
      ]
     },
     "execution_count": 59,
     "metadata": {},
     "output_type": "execute_result"
    }
   ],
   "source": [
    "con5=visa_df['prevailing_wage']>val_minus_3\n",
    "con6=visa_df['prevailing_wage']<val_plus_3\n",
    "con5&con6\n",
    "len(visa_df[con5&con6]) # it should be 99.7% of full data"
   ]
  },
  {
   "cell_type": "code",
   "execution_count": 62,
   "id": "472b0926-1c6c-4195-9365-794ba16ca10a",
   "metadata": {},
   "outputs": [
    {
     "data": {
      "text/plain": [
       "0.9884615384615385"
      ]
     },
     "execution_count": 62,
     "metadata": {},
     "output_type": "execute_result"
    }
   ],
   "source": [
    "len(visa_df[con5&con6])/len(visa_df)"
   ]
  },
  {
   "cell_type": "markdown",
   "id": "17833bb8-edee-4fc0-b955-34f18ec032cc",
   "metadata": {},
   "source": [
    "# <center> **Histogram** </center>\n",
    "\n",
    "- From imperial rule we got slight deviation in count data\n",
    "\n",
    "- also mean is greater than median\n",
    "\n",
    "- This shows data not fallow normal distrybution.\n",
    "\n",
    "- so, we will make histogram, a graph B/W class intervel and class interval frequency\n",
    "\n",
    "- in maplotlib we will use `plt.hist`"
   ]
  },
  {
   "cell_type": "code",
   "execution_count": 65,
   "id": "797f14a0-48a9-45d0-a540-6a8fed202af6",
   "metadata": {},
   "outputs": [
    {
     "data": {
      "text/plain": [
       "(array([3863., 2175., 2676., 2828., 2889., 2792., 2485., 2066., 1452.,\n",
       "         882.,  408.,  216.,  206.,  167.,  129.,  111.,   66.,   48.,\n",
       "          10.,   11.]),\n",
       " array([2.13670000e+00, 1.59625434e+04, 3.19229500e+04, 4.78833567e+04,\n",
       "        6.38437634e+04, 7.98041700e+04, 9.57645767e+04, 1.11724983e+05,\n",
       "        1.27685390e+05, 1.43645797e+05, 1.59606203e+05, 1.75566610e+05,\n",
       "        1.91527017e+05, 2.07487423e+05, 2.23447830e+05, 2.39408237e+05,\n",
       "        2.55368643e+05, 2.71329050e+05, 2.87289457e+05, 3.03249863e+05,\n",
       "        3.19210270e+05]),\n",
       " <BarContainer object of 20 artists>)"
      ]
     },
     "execution_count": 65,
     "metadata": {},
     "output_type": "execute_result"
    },
    {
     "data": {
      "image/png": "[encoded data removed]",
      "text/plain": [
       "<Figure size 640x480 with 1 Axes>"
      ]
     },
     "metadata": {},
     "output_type": "display_data"
    }
   ],
   "source": [
    "# step-1: Read the prevailing wage\n",
    "# step-2: plt.hist()\n",
    "\n",
    "wage_data=visa_df['prevailing_wage']\n",
    "plt.hist(wage_data,bins=20)"
   ]
  },
  {
   "cell_type": "markdown",
   "id": "552654d8-2b72-4428-9318-4cbc3e402dc1",
   "metadata": {},
   "source": [
    "- Histogarm returns 3 values\n",
    "\n",
    "    - Interval count array\n",
    "    \n",
    "      - we have 20 intervals. so we have 20 interval count\n",
    "    - bins\n",
    " \n",
    "      - bins means number of intervals\n",
    "\n",
    "\n",
    "    - will display how many interval are aviale\n",
    " \n",
    "- For ex. in bins array the 1st two forms one interval\n",
    "\n",
    "- `2.136 to 15962.543` the count is `3863`\n",
    "\n",
    "- 3863 observations are avaolable B\\W 2.13 to 15962\n",
    "\n",
    "- same 2175 ovr are b\\w (15926 to 31922)"
   ]
  },
  {
   "cell_type": "code",
   "execution_count": 68,
   "id": "5722ec90-46b4-4cfc-b4f2-39667f04538e",
   "metadata": {},
   "outputs": [
    {
     "name": "stdout",
     "output_type": "stream",
     "text": [
      "20\n",
      "21\n",
      "<BarContainer object of 20 artists>\n"
     ]
    },
    {
     "data": {
      "image/png": "[encoded data removed]",
      "text/plain": [
       "<Figure size 640x480 with 1 Axes>"
      ]
     },
     "metadata": {},
     "output_type": "display_data"
    }
   ],
   "source": [
    "wage_data=visa_df['prevailing_wage']\n",
    "count,bins,x=plt.hist(wage_data,bins=20)\n",
    "print(len(count))\n",
    "print(len(bins)) # 21 values are requir to make 20 bar\n",
    "print(x) # histogram\n"
   ]
  },
  {
   "cell_type": "markdown",
   "id": "7fcdb660-bfcd-4962-b6e8-11e910345b07",
   "metadata": {},
   "source": [
    "**Verify bellow two statements**\n",
    "\n",
    "- 3863 observations are avaolable B\\W 2.13 to 15962\n",
    "\n",
    "- same 2175 ovr are b\\w (15926 to 31922)"
   ]
  },
  {
   "cell_type": "code",
   "execution_count": 73,
   "id": "37c5eb2a-a0d5-44f0-910b-62b60ed122d1",
   "metadata": {},
   "outputs": [
    {
     "name": "stdout",
     "output_type": "stream",
     "text": [
      "3863\n"
     ]
    }
   ],
   "source": [
    "#1st obs varification\n",
    "lb=2.13670000e+00\n",
    "ub=1.59625434e+04\n",
    "con1=visa_df['prevailing_wage']<=ub\n",
    "con2=visa_df['prevailing_wage']>=lb\n",
    "con3=con1&con2\n",
    "print(len(visa_df[con3]))"
   ]
  },
  {
   "cell_type": "code",
   "execution_count": 77,
   "id": "97a51363-8afa-40cf-834d-e7a19ee0a03b",
   "metadata": {},
   "outputs": [
    {
     "name": "stdout",
     "output_type": "stream",
     "text": [
      "2175\n"
     ]
    }
   ],
   "source": [
    "#2nd obs varification\n",
    "\n",
    "lb=1.59625434e+04\n",
    "ub=3.19229500e+04\n",
    "con1=visa_df['prevailing_wage']>=lb\n",
    "con2=visa_df['prevailing_wage']<=ub\n",
    "con3=con1&con2\n",
    "print(len(visa_df[con3]))"
   ]
  },
  {
   "cell_type": "markdown",
   "id": "b5219bc9-ee9a-49a1-92bc-e0d63307385b",
   "metadata": {},
   "source": [
    "## Now we will create dataframe"
   ]
  },
  {
   "cell_type": "code",
   "execution_count": 78,
   "id": "7ddb9cbc-e82e-43f6-bf3f-a3cb35e4d1b2",
   "metadata": {},
   "outputs": [
    {
     "data": {
      "text/plain": [
       "array([3863., 2175., 2676., 2828., 2889., 2792., 2485., 2066., 1452.,\n",
       "        882.,  408.,  216.,  206.,  167.,  129.,  111.,   66.,   48.,\n",
       "         10.,   11.])"
      ]
     },
     "execution_count": 78,
     "metadata": {},
     "output_type": "execute_result"
    }
   ],
   "source": [
    "count"
   ]
  },
  {
   "cell_type": "code",
   "execution_count": 79,
   "id": "a819310c-c799-4763-8b4d-de7acc33d43c",
   "metadata": {},
   "outputs": [
    {
     "data": {
      "text/plain": [
       "array([2.13670000e+00, 1.59625434e+04, 3.19229500e+04, 4.78833567e+04,\n",
       "       6.38437634e+04, 7.98041700e+04, 9.57645767e+04, 1.11724983e+05,\n",
       "       1.27685390e+05, 1.43645797e+05, 1.59606203e+05, 1.75566610e+05,\n",
       "       1.91527017e+05, 2.07487423e+05, 2.23447830e+05, 2.39408237e+05,\n",
       "       2.55368643e+05, 2.71329050e+05, 2.87289457e+05, 3.03249863e+05,\n",
       "       3.19210270e+05])"
      ]
     },
     "execution_count": 79,
     "metadata": {},
     "output_type": "execute_result"
    }
   ],
   "source": [
    "bins"
   ]
  },
  {
   "cell_type": "markdown",
   "id": "efd15a0e-52cc-4f7b-bd0c-17dcbe4396ed",
   "metadata": {},
   "source": [
    "### task-1: create a dataframe \n",
    "\n",
    "- 1st column: tadke bins value for ranke or interval\n",
    "\n",
    "- 2nd column: count the values lie b/w those 2 range and print it."
   ]
  },
  {
   "cell_type": "code",
   "execution_count": 107,
   "id": "e75d4edd-37ad-4523-9334-b251b8be220e",
   "metadata": {},
   "outputs": [
    {
     "data": {
      "text/html": [
       "<div>\n",
       "<style scoped>\n",
       "    .dataframe tbody tr th:only-of-type {\n",
       "        vertical-align: middle;\n",
       "    }\n",
       "\n",
       "    .dataframe tbody tr th {\n",
       "        vertical-align: top;\n",
       "    }\n",
       "\n",
       "    .dataframe thead th {\n",
       "        text-align: right;\n",
       "    }\n",
       "</style>\n",
       "<table border=\"1\" class=\"dataframe\">\n",
       "  <thead>\n",
       "    <tr style=\"text-align: right;\">\n",
       "      <th></th>\n",
       "      <th>Ranges</th>\n",
       "      <th>count</th>\n",
       "    </tr>\n",
       "  </thead>\n",
       "  <tbody>\n",
       "    <tr>\n",
       "      <th>0</th>\n",
       "      <td>2.14 to 15962.54</td>\n",
       "      <td>3862</td>\n",
       "    </tr>\n",
       "    <tr>\n",
       "      <th>1</th>\n",
       "      <td>15962.54 to 31922.95</td>\n",
       "      <td>2175</td>\n",
       "    </tr>\n",
       "    <tr>\n",
       "      <th>2</th>\n",
       "      <td>31922.95 to 47883.36</td>\n",
       "      <td>2676</td>\n",
       "    </tr>\n",
       "    <tr>\n",
       "      <th>3</th>\n",
       "      <td>47883.36 to 63843.76</td>\n",
       "      <td>2828</td>\n",
       "    </tr>\n",
       "    <tr>\n",
       "      <th>4</th>\n",
       "      <td>63843.76 to 79804.17</td>\n",
       "      <td>2889</td>\n",
       "    </tr>\n",
       "    <tr>\n",
       "      <th>5</th>\n",
       "      <td>79804.17 to 95764.58</td>\n",
       "      <td>2792</td>\n",
       "    </tr>\n",
       "    <tr>\n",
       "      <th>6</th>\n",
       "      <td>95764.58 to 111724.98</td>\n",
       "      <td>2485</td>\n",
       "    </tr>\n",
       "    <tr>\n",
       "      <th>7</th>\n",
       "      <td>111724.98 to 127685.39</td>\n",
       "      <td>2066</td>\n",
       "    </tr>\n",
       "    <tr>\n",
       "      <th>8</th>\n",
       "      <td>127685.39 to 143645.8</td>\n",
       "      <td>1452</td>\n",
       "    </tr>\n",
       "    <tr>\n",
       "      <th>9</th>\n",
       "      <td>143645.8 to 159606.2</td>\n",
       "      <td>882</td>\n",
       "    </tr>\n",
       "    <tr>\n",
       "      <th>10</th>\n",
       "      <td>159606.2 to 175566.61</td>\n",
       "      <td>408</td>\n",
       "    </tr>\n",
       "    <tr>\n",
       "      <th>11</th>\n",
       "      <td>175566.61 to 191527.02</td>\n",
       "      <td>216</td>\n",
       "    </tr>\n",
       "    <tr>\n",
       "      <th>12</th>\n",
       "      <td>191527.02 to 207487.42</td>\n",
       "      <td>206</td>\n",
       "    </tr>\n",
       "    <tr>\n",
       "      <th>13</th>\n",
       "      <td>207487.42 to 223447.83</td>\n",
       "      <td>167</td>\n",
       "    </tr>\n",
       "    <tr>\n",
       "      <th>14</th>\n",
       "      <td>223447.83 to 239408.24</td>\n",
       "      <td>129</td>\n",
       "    </tr>\n",
       "    <tr>\n",
       "      <th>15</th>\n",
       "      <td>239408.24 to 255368.64</td>\n",
       "      <td>111</td>\n",
       "    </tr>\n",
       "    <tr>\n",
       "      <th>16</th>\n",
       "      <td>255368.64 to 271329.05</td>\n",
       "      <td>66</td>\n",
       "    </tr>\n",
       "    <tr>\n",
       "      <th>17</th>\n",
       "      <td>271329.05 to 287289.46</td>\n",
       "      <td>48</td>\n",
       "    </tr>\n",
       "    <tr>\n",
       "      <th>18</th>\n",
       "      <td>287289.46 to 303249.86</td>\n",
       "      <td>10</td>\n",
       "    </tr>\n",
       "    <tr>\n",
       "      <th>19</th>\n",
       "      <td>303249.86 to 319210.27</td>\n",
       "      <td>11</td>\n",
       "    </tr>\n",
       "  </tbody>\n",
       "</table>\n",
       "</div>"
      ],
      "text/plain": [
       "                    Ranges  count\n",
       "0         2.14 to 15962.54   3862\n",
       "1     15962.54 to 31922.95   2175\n",
       "2     31922.95 to 47883.36   2676\n",
       "3     47883.36 to 63843.76   2828\n",
       "4     63843.76 to 79804.17   2889\n",
       "5     79804.17 to 95764.58   2792\n",
       "6    95764.58 to 111724.98   2485\n",
       "7   111724.98 to 127685.39   2066\n",
       "8    127685.39 to 143645.8   1452\n",
       "9     143645.8 to 159606.2    882\n",
       "10   159606.2 to 175566.61    408\n",
       "11  175566.61 to 191527.02    216\n",
       "12  191527.02 to 207487.42    206\n",
       "13  207487.42 to 223447.83    167\n",
       "14  223447.83 to 239408.24    129\n",
       "15  239408.24 to 255368.64    111\n",
       "16  255368.64 to 271329.05     66\n",
       "17  271329.05 to 287289.46     48\n",
       "18  287289.46 to 303249.86     10\n",
       "19  303249.86 to 319210.27     11"
      ]
     },
     "execution_count": 107,
     "metadata": {},
     "output_type": "execute_result"
    }
   ],
   "source": [
    "l1 = []\n",
    "l2 = []\n",
    "\n",
    "for i in range(len(bins) - 1):  # Looping through bins properly\n",
    "    lb = round(bins[i],2)  # Lower bound\n",
    "    ub = round(bins[i+1],2)  # Upper bound\n",
    "\n",
    "    con1 = visa_df['prevailing_wage'] >= lb\n",
    "    con2 = visa_df['prevailing_wage'] <= ub\n",
    "    con3 = con1 & con2  \n",
    "\n",
    "    count = len(visa_df[con3])  # Counting the number of values in range\n",
    "\n",
    "    l1.append(f'{lb} to {ub}') \n",
    "    l2.append(count)\n",
    "\n",
    "pd.DataFrame(zip(l1,l2),columns=['Ranges','count'])\n"
   ]
  },
  {
   "cell_type": "markdown",
   "id": "dcd13e5b-530b-4317-973e-54f74e6dc8a6",
   "metadata": {},
   "source": [
    "## Make a new folder=`numerical_analysis` and save files inside it"
   ]
  },
  {
   "cell_type": "code",
   "execution_count": 96,
   "id": "240eedf5-318d-4121-a543-03d2a65b858b",
   "metadata": {},
   "outputs": [],
   "source": [
    "import os"
   ]
  },
  {
   "cell_type": "code",
   "execution_count": 97,
   "id": "822cbac8-d8d5-44b9-8bd7-f8b67fa789e1",
   "metadata": {},
   "outputs": [
    {
     "data": {
      "text/plain": [
       "'C:\\\\Users\\\\Admin\\\\Documents\\\\naresh IT\\\\EDA(EXPOLRETREE DATA  ANALYSIS)'"
      ]
     },
     "execution_count": 97,
     "metadata": {},
     "output_type": "execute_result"
    }
   ],
   "source": [
    "os.getcwd() # current working dir(master dir)"
   ]
  },
  {
   "cell_type": "code",
   "execution_count": 106,
   "id": "f68d7c71-93d9-4277-802f-f22390ec53ff",
   "metadata": {},
   "outputs": [
    {
     "name": "stdout",
     "output_type": "stream",
     "text": [
      "New folder : **numerical_analysis** is created\n"
     ]
    }
   ],
   "source": [
    "try:\n",
    "    root_dir=os.getcwd()\n",
    "    new_folder='numerical_analysis' # new folder name\n",
    "    new_dir=os.path.join(root_dir,new_folder) # till inside root folser path\n",
    "    os.makedirs(new_dir) # make new folder inside new_dir path\n",
    "    print(f'New folder : {new_folder} is created')\n",
    "    \n",
    "except Exception as e:\n",
    "    print(e)\n"
   ]
  },
  {
   "cell_type": "code",
   "execution_count": 119,
   "id": "f2ddda9a-1737-4aa0-84ed-13c0043a5ee0",
   "metadata": {},
   "outputs": [
    {
     "name": "stdout",
     "output_type": "stream",
     "text": [
      "[WinError 183] Cannot create a file when that file already exists: 'C:\\\\Users\\\\Admin\\\\Documents\\\\naresh IT\\\\EDA(EXPOLRETREE DATA  ANALYSIS)\\\\numerical_analysis\\\\Datasets'\n"
     ]
    }
   ],
   "source": [
    "try:\n",
    "    new_dir\n",
    "    new_fol='Datasets' # new folder inside 'numerical_analysis' folder\n",
    "    ds_fol=os.path.join(new_dir,new_fol) # path till inside 'numerical_analysis' folder\n",
    "    os.makedirs(ds_fol)\n",
    "except Exception as e:\n",
    "    print(e)"
   ]
  },
  {
   "cell_type": "code",
   "execution_count": 125,
   "id": "6a8f1e61-14a1-48d8-a67b-6350e191aa1c",
   "metadata": {},
   "outputs": [
    {
     "data": {
      "text/plain": [
       "['Datasets']"
      ]
     },
     "execution_count": 125,
     "metadata": {},
     "output_type": "execute_result"
    }
   ],
   "source": [
    "os.listdir(new_dir) # check folder created or not"
   ]
  },
  {
   "cell_type": "code",
   "execution_count": 128,
   "id": "e53dcf48-16dc-4db2-967a-c57b2ef38eb0",
   "metadata": {},
   "outputs": [
    {
     "data": {
      "text/plain": [
       "['prevailing_wage_count.csv']"
      ]
     },
     "execution_count": 128,
     "metadata": {},
     "output_type": "execute_result"
    }
   ],
   "source": [
    "df=pd.DataFrame(zip(l1,l2),columns=['Ranges','count'])\n",
    "df.to_csv(f'{ds_fol}\\\\prevailing_wage_count.csv',index=False)\n",
    "os.listdir(f'{ds_fol}') # verify file created or not"
   ]
  },
  {
   "cell_type": "code",
   "execution_count": 124,
   "id": "d5a9e097-dcd0-4bb0-ac0b-272dbd95c8fb",
   "metadata": {},
   "outputs": [
    {
     "data": {
      "text/html": [
       "<div>\n",
       "<style scoped>\n",
       "    .dataframe tbody tr th:only-of-type {\n",
       "        vertical-align: middle;\n",
       "    }\n",
       "\n",
       "    .dataframe tbody tr th {\n",
       "        vertical-align: top;\n",
       "    }\n",
       "\n",
       "    .dataframe thead th {\n",
       "        text-align: right;\n",
       "    }\n",
       "</style>\n",
       "<table border=\"1\" class=\"dataframe\">\n",
       "  <thead>\n",
       "    <tr style=\"text-align: right;\">\n",
       "      <th></th>\n",
       "      <th>Ranges</th>\n",
       "      <th>count</th>\n",
       "    </tr>\n",
       "  </thead>\n",
       "  <tbody>\n",
       "    <tr>\n",
       "      <th>0</th>\n",
       "      <td>2.14 to 15962.54</td>\n",
       "      <td>3862</td>\n",
       "    </tr>\n",
       "    <tr>\n",
       "      <th>1</th>\n",
       "      <td>15962.54 to 31922.95</td>\n",
       "      <td>2175</td>\n",
       "    </tr>\n",
       "    <tr>\n",
       "      <th>2</th>\n",
       "      <td>31922.95 to 47883.36</td>\n",
       "      <td>2676</td>\n",
       "    </tr>\n",
       "    <tr>\n",
       "      <th>3</th>\n",
       "      <td>47883.36 to 63843.76</td>\n",
       "      <td>2828</td>\n",
       "    </tr>\n",
       "    <tr>\n",
       "      <th>4</th>\n",
       "      <td>63843.76 to 79804.17</td>\n",
       "      <td>2889</td>\n",
       "    </tr>\n",
       "    <tr>\n",
       "      <th>5</th>\n",
       "      <td>79804.17 to 95764.58</td>\n",
       "      <td>2792</td>\n",
       "    </tr>\n",
       "    <tr>\n",
       "      <th>6</th>\n",
       "      <td>95764.58 to 111724.98</td>\n",
       "      <td>2485</td>\n",
       "    </tr>\n",
       "    <tr>\n",
       "      <th>7</th>\n",
       "      <td>111724.98 to 127685.39</td>\n",
       "      <td>2066</td>\n",
       "    </tr>\n",
       "    <tr>\n",
       "      <th>8</th>\n",
       "      <td>127685.39 to 143645.8</td>\n",
       "      <td>1452</td>\n",
       "    </tr>\n",
       "    <tr>\n",
       "      <th>9</th>\n",
       "      <td>143645.8 to 159606.2</td>\n",
       "      <td>882</td>\n",
       "    </tr>\n",
       "    <tr>\n",
       "      <th>10</th>\n",
       "      <td>159606.2 to 175566.61</td>\n",
       "      <td>408</td>\n",
       "    </tr>\n",
       "    <tr>\n",
       "      <th>11</th>\n",
       "      <td>175566.61 to 191527.02</td>\n",
       "      <td>216</td>\n",
       "    </tr>\n",
       "    <tr>\n",
       "      <th>12</th>\n",
       "      <td>191527.02 to 207487.42</td>\n",
       "      <td>206</td>\n",
       "    </tr>\n",
       "    <tr>\n",
       "      <th>13</th>\n",
       "      <td>207487.42 to 223447.83</td>\n",
       "      <td>167</td>\n",
       "    </tr>\n",
       "    <tr>\n",
       "      <th>14</th>\n",
       "      <td>223447.83 to 239408.24</td>\n",
       "      <td>129</td>\n",
       "    </tr>\n",
       "    <tr>\n",
       "      <th>15</th>\n",
       "      <td>239408.24 to 255368.64</td>\n",
       "      <td>111</td>\n",
       "    </tr>\n",
       "    <tr>\n",
       "      <th>16</th>\n",
       "      <td>255368.64 to 271329.05</td>\n",
       "      <td>66</td>\n",
       "    </tr>\n",
       "    <tr>\n",
       "      <th>17</th>\n",
       "      <td>271329.05 to 287289.46</td>\n",
       "      <td>48</td>\n",
       "    </tr>\n",
       "    <tr>\n",
       "      <th>18</th>\n",
       "      <td>287289.46 to 303249.86</td>\n",
       "      <td>10</td>\n",
       "    </tr>\n",
       "    <tr>\n",
       "      <th>19</th>\n",
       "      <td>303249.86 to 319210.27</td>\n",
       "      <td>11</td>\n",
       "    </tr>\n",
       "  </tbody>\n",
       "</table>\n",
       "</div>"
      ],
      "text/plain": [
       "                    Ranges  count\n",
       "0         2.14 to 15962.54   3862\n",
       "1     15962.54 to 31922.95   2175\n",
       "2     31922.95 to 47883.36   2676\n",
       "3     47883.36 to 63843.76   2828\n",
       "4     63843.76 to 79804.17   2889\n",
       "5     79804.17 to 95764.58   2792\n",
       "6    95764.58 to 111724.98   2485\n",
       "7   111724.98 to 127685.39   2066\n",
       "8    127685.39 to 143645.8   1452\n",
       "9     143645.8 to 159606.2    882\n",
       "10   159606.2 to 175566.61    408\n",
       "11  175566.61 to 191527.02    216\n",
       "12  191527.02 to 207487.42    206\n",
       "13  207487.42 to 223447.83    167\n",
       "14  223447.83 to 239408.24    129\n",
       "15  239408.24 to 255368.64    111\n",
       "16  255368.64 to 271329.05     66\n",
       "17  271329.05 to 287289.46     48\n",
       "18  287289.46 to 303249.86     10\n",
       "19  303249.86 to 319210.27     11"
      ]
     },
     "execution_count": 124,
     "metadata": {},
     "output_type": "execute_result"
    }
   ],
   "source": [
    "pd.read_csv(f'{ds_fol}\\\\prevailing_wage_count.csv')"
   ]
  }
 ],
 "metadata": {
  "kernelspec": {
   "display_name": "Python 3 (ipykernel)",
   "language": "python",
   "name": "python3"
  },
  "language_info": {
   "codemirror_mode": {
    "name": "ipython",
    "version": 3
   },
   "file_extension": ".py",
   "mimetype": "text/x-python",
   "name": "python",
   "nbconvert_exporter": "python",
   "pygments_lexer": "ipython3",
   "version": "3.12.4"
  }
 },
 "nbformat": 4,
 "nbformat_minor": 5
}
